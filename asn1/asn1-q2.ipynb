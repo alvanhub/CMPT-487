{
 "cells": [
  {
   "cell_type": "markdown",
   "metadata": {},
   "source": [
    "# Question 2\n",
    "\n",
    "In this question we will:\n",
    "- Implement the vector median filter for colour images.\n",
    "- Apply the vector median filter to a small dataset and establish a baseline performance meteric.\n",
    "- Try to design a denoising pipeline that outperforms using only the vector median filter.   "
   ]
  },
  {
   "cell_type": "markdown",
   "metadata": {},
   "source": [
    "# Step 1: Implement the vector median filter for colour images.\n",
    "\n",
    "## Instructions\n",
    "\n",
    "- Write a function that implements the vector median filter.  Details on the vector median filter can be found in Topic 4 of the lecture notes and implementation suggestions can be found in Section 2 of the asignment PDF.  \n",
    "- The parameters to your function should be the input image `I`, and the `radius` of the square neighbourhood, e.g. radius 1 = 3x3 filter, radius 2 = 5x5 filter, etc.\n",
    "- Your function should accept images of dtype `uint8` or `float64` (other types may be rejected if you wish).    It is easiest if you work with the image as data type `float64`.   If the input image is of type `uint8`, it is suggested that you convert it to dtype `float64`, construct the output image also as type `float64` and then convert it back to `uint8` before returning it.  In any case, the output image returned should be the same dtype as the input image."
   ]
  },
  {
   "cell_type": "code",
   "execution_count": 5,
   "metadata": {},
   "outputs": [],
   "source": [
    "def vector_median(I, radius):\n",
    "    \n",
    "    # Fill in the function here.\n",
    "    orig_dtype = I.dtype\n",
    "    if orig_dtype  == np.uint8:\n",
    "        I = I.astype(np.float64)\n",
    "\n",
    "    rows, cols, ch = I.shape\n",
    "    \n",
    "    out = np.zeros_like(I, dtype=np.float64)\n",
    "    \n",
    "    size = 2*radius + 1\n",
    "    n = size * size\n",
    "\n",
    "    for r in range(radius, rows-radius):\n",
    "        for c in range(radius, cols-radius):\n",
    "            Iwindow = I[r-radius:r+radius+1, c-radius:c+radius+1, :]\n",
    "            colours = np.reshape(Iwindow, (n, 3)) \n",
    "\n",
    "            Y = np.tile(colours[:, :, None], (1, 1, n)) \n",
    "            X = np.transpose(np.tile(colours.T, (n, 1, 1)), (2, 1, 0))\n",
    "\n",
    "            D = np.sum(np.abs(X - Y), axis=(0,1))\n",
    "            k = np.argmin(D)\n",
    "            out[r, c, :] = colours[k]\n",
    "\n",
    "    if orig_dtype == np.uint8:\n",
    "        out = np.clip(out, 0, 255).astype(np.uint8)\n",
    "        \n",
    "    return out"
   ]
  },
  {
   "cell_type": "markdown",
   "metadata": {},
   "source": [
    "# Step 2a: Establish a Baseline\n",
    "\n",
    "## Instructions\n",
    "\n",
    "- Determine the PSNR and SSIM of all of the noisy images by comparing them to their noiseless versions -- store these in a list.  \n",
    "    - Use the same method to read the images files as in question 1, but read them from the `images/noisy` directory and the `images/noiseless` directory as needed.\n",
    "- Filter each noisy image with a 3x3 vector median filter and compute the PSNR and SSIM of all of the filtered noisy images (by comparing them to the noiseless images) -- store these in a list.   \n",
    "    - As with question 1, to save time we recommend you develop and debug your programs using only the first three to five images in file_list, and run it on the complete list when you're done. \n",
    "- The noiseless images are provided so you can compute PSNR and SSIM.  See functions `skmetrics.peak_signal_noise_ratio()` and `skmetrics.structural_similarity()`.  You'll need the `channel_axis=2` argument for `structural_similarity()`.  This indicates to the function that the it is the 3rd dimension of the 3D arrays that index the R, G and B channels.\n",
    "\n",
    "_Hint: This step requires doing a few seemingly different things, but it's actually easier to do them all at once in the same loop._\n",
    "\n"
   ]
  },
  {
   "cell_type": "code",
   "execution_count": 11,
   "metadata": {
    "tags": []
   },
   "outputs": [
    {
     "ename": "KeyboardInterrupt",
     "evalue": "",
     "output_type": "error",
     "traceback": [
      "\u001b[0;31m---------------------------------------------------------------------------\u001b[0m",
      "\u001b[0;31mKeyboardInterrupt\u001b[0m                         Traceback (most recent call last)",
      "Cell \u001b[0;32mIn[11], line 41\u001b[0m\n\u001b[1;32m     38\u001b[0m psnr_noisy\u001b[38;5;241m.\u001b[39mappend(psnr_n)\n\u001b[1;32m     39\u001b[0m ssim_noisy\u001b[38;5;241m.\u001b[39mappend(ssim_n)\n\u001b[0;32m---> 41\u001b[0m filtered \u001b[38;5;241m=\u001b[39m vector_median(noisy, radius\u001b[38;5;241m=\u001b[39m\u001b[38;5;241m1\u001b[39m)\n\u001b[1;32m     43\u001b[0m psnr_f \u001b[38;5;241m=\u001b[39m skmetrics\u001b[38;5;241m.\u001b[39mpeak_signal_noise_ratio(noiseless, filtered)\n\u001b[1;32m     44\u001b[0m ssim_f \u001b[38;5;241m=\u001b[39m skmetrics\u001b[38;5;241m.\u001b[39mstructural_similarity(noiseless, filtered, channel_axis\u001b[38;5;241m=\u001b[39m\u001b[38;5;241m2\u001b[39m)\n",
      "Cell \u001b[0;32mIn[5], line 23\u001b[0m, in \u001b[0;36mvector_median\u001b[0;34m(I, radius)\u001b[0m\n\u001b[1;32m     20\u001b[0m Y \u001b[38;5;241m=\u001b[39m np\u001b[38;5;241m.\u001b[39mtile(colours[:, :, \u001b[38;5;28;01mNone\u001b[39;00m], (\u001b[38;5;241m1\u001b[39m, \u001b[38;5;241m1\u001b[39m, n)) \n\u001b[1;32m     21\u001b[0m X \u001b[38;5;241m=\u001b[39m np\u001b[38;5;241m.\u001b[39mtranspose(np\u001b[38;5;241m.\u001b[39mtile(colours\u001b[38;5;241m.\u001b[39mT, (n, \u001b[38;5;241m1\u001b[39m, \u001b[38;5;241m1\u001b[39m)), (\u001b[38;5;241m2\u001b[39m, \u001b[38;5;241m1\u001b[39m, \u001b[38;5;241m0\u001b[39m))\n\u001b[0;32m---> 23\u001b[0m D \u001b[38;5;241m=\u001b[39m np\u001b[38;5;241m.\u001b[39msum(np\u001b[38;5;241m.\u001b[39mabs(X \u001b[38;5;241m-\u001b[39m Y), axis\u001b[38;5;241m=\u001b[39m(\u001b[38;5;241m0\u001b[39m,\u001b[38;5;241m1\u001b[39m))\n\u001b[1;32m     24\u001b[0m k \u001b[38;5;241m=\u001b[39m np\u001b[38;5;241m.\u001b[39margmin(D)\n\u001b[1;32m     25\u001b[0m out[r, c, :] \u001b[38;5;241m=\u001b[39m colours[k]\n",
      "File \u001b[0;32m/usr/local/anaconda3/lib/python3.12/site-packages/numpy/core/fromnumeric.py:2313\u001b[0m, in \u001b[0;36msum\u001b[0;34m(a, axis, dtype, out, keepdims, initial, where)\u001b[0m\n\u001b[1;32m   2310\u001b[0m         \u001b[38;5;28;01mreturn\u001b[39;00m out\n\u001b[1;32m   2311\u001b[0m     \u001b[38;5;28;01mreturn\u001b[39;00m res\n\u001b[0;32m-> 2313\u001b[0m \u001b[38;5;28;01mreturn\u001b[39;00m _wrapreduction(a, np\u001b[38;5;241m.\u001b[39madd, \u001b[38;5;124m'\u001b[39m\u001b[38;5;124msum\u001b[39m\u001b[38;5;124m'\u001b[39m, axis, dtype, out, keepdims\u001b[38;5;241m=\u001b[39mkeepdims,\n\u001b[1;32m   2314\u001b[0m                       initial\u001b[38;5;241m=\u001b[39minitial, where\u001b[38;5;241m=\u001b[39mwhere)\n",
      "File \u001b[0;32m/usr/local/anaconda3/lib/python3.12/site-packages/numpy/core/fromnumeric.py:88\u001b[0m, in \u001b[0;36m_wrapreduction\u001b[0;34m(obj, ufunc, method, axis, dtype, out, **kwargs)\u001b[0m\n\u001b[1;32m     85\u001b[0m         \u001b[38;5;28;01melse\u001b[39;00m:\n\u001b[1;32m     86\u001b[0m             \u001b[38;5;28;01mreturn\u001b[39;00m reduction(axis\u001b[38;5;241m=\u001b[39maxis, out\u001b[38;5;241m=\u001b[39mout, \u001b[38;5;241m*\u001b[39m\u001b[38;5;241m*\u001b[39mpasskwargs)\n\u001b[0;32m---> 88\u001b[0m \u001b[38;5;28;01mreturn\u001b[39;00m ufunc\u001b[38;5;241m.\u001b[39mreduce(obj, axis, dtype, out, \u001b[38;5;241m*\u001b[39m\u001b[38;5;241m*\u001b[39mpasskwargs)\n",
      "\u001b[0;31mKeyboardInterrupt\u001b[0m: "
     ]
    }
   ],
   "source": [
    "# Some modules you might need.\n",
    "\n",
    "import skimage.io as io\n",
    "import os as os\n",
    "import skimage.filters as skfilt\n",
    "import skimage.metrics as skmetrics\n",
    "import skimage.util as skutil\n",
    "import numpy as np\n",
    "import pandas as pd\n",
    "\n",
    "%matplotlib inline\n",
    "\n",
    "# Use pandas to read the image filenames and then create a list of the filenames called file_list, just like you did in question 1.\n",
    "image_files = pd.read_csv(\"/u1/cmpt487-819/data/asn1/images.csv\", header=None)\n",
    "file_list = image_files[0].tolist()\n",
    "\n",
    "psnr_noisy = []\n",
    "ssim_noisy = []\n",
    "psnr_vmf = []\n",
    "ssim_vmf = []\n",
    "\n",
    "for filename in file_list:   # you can restrict this to, for example,  file_list[0:3], for testing\n",
    "\n",
    "    # Process the noisy image file here.  The images have the same filenames name in the \n",
    "    # noisy, noisy-test, and noiseless folders.  You'll have to construct the paths to these\n",
    "    # images yourself.  This is easy to do using using os.path.join().\n",
    "\n",
    "    noisy_path = os.path.join(\"/u1/cmpt487-819/data/asn1/images/noisy\", filename)\n",
    "    noisless_path = os.path.join(\"/u1/cmpt487-819/data/asn1/images/noiseless\", filename)\n",
    "\n",
    "    \n",
    "    noisy = io.imread(noisy_path)\n",
    "    noiseless = io.imread(noisless_path)\n",
    "\n",
    "    psnr_n = skmetrics.peak_signal_noise_ratio(noiseless, noisy)\n",
    "    ssim_n = skmetrics.structural_similarity(noiseless, noisy, channel_axis=2)\n",
    "\n",
    "    psnr_noisy.append(psnr_n)\n",
    "    ssim_noisy.append(ssim_n)\n",
    "\n",
    "    filtered = vector_median(noisy, radius=1)\n",
    "\n",
    "    psnr_f = skmetrics.peak_signal_noise_ratio(noiseless, filtered)\n",
    "    ssim_f = skmetrics.structural_similarity(noiseless, filtered, channel_axis=2)\n",
    "\n",
    "    psnr_vmf.append(psnr_f)\n",
    "    ssim_vmf.append(ssim_f)\n",
    "\n",
    "psnr_noisy = np.array(psnr_noisy)\n",
    "ssim_noisy = np.array(ssim_noisy)\n",
    "psnr_vmf = np.array(psnr_vmf)\n",
    "ssim_vmf = np.array(ssim_vmf)\n",
    "\n",
    "print(\"Noisy PSNR:\", psnr_noisy)\n",
    "print(\"Noisy SSIM:\", ssim_noisy)\n",
    "print(\"VMF PSNR:\", psnr_vmf)\n",
    "print(\"VMF SSIM:\", ssim_vmf)"
   ]
  },
  {
   "cell_type": "markdown",
   "metadata": {},
   "source": [
    "# Step 2b: Compute average baseline metrics.\n",
    "\n",
    "## Instructions\n",
    "\n",
    "Compute the average PSNR and SSIM for the unfiltered noisy images (take the PSNR and SSIM measures for each image and average them).  Do the same for the median-filtered noisy images.  Plot a bar graph showing the two mean PSNR values and another showing the two mean SSIM values before and after filtering (see assignment description for sample output)."
   ]
  },
  {
   "cell_type": "code",
   "execution_count": 10,
   "metadata": {
    "tags": []
   },
   "outputs": [
    {
     "data": {
      "image/png": "[encoded data removed]",
      "text/plain": [
       "<Figure size 1200x500 with 2 Axes>"
      ]
     },
     "metadata": {},
     "output_type": "display_data"
    }
   ],
   "source": [
    "# some modules you might need.\n",
    "\n",
    "import matplotlib.pyplot as plt\n",
    "import numpy as np\n",
    "\n",
    "avg_psnr_unfil = psnr_noisy.mean(axis=0)\n",
    "avg_ssim_unfil = ssim_noisy.mean(axis=0)\n",
    "\n",
    "avg_psnr_vmf = psnr_vmf.mean(axis=0)\n",
    "avg_ssim_vmf = ssim_vmf.mean(axis=0)\n",
    "\n",
    "fig, axes = plt.subplots(1, 2, figsize=(12, 5))\n",
    "\n",
    "psnr_min = min(avg_psnr_unfil.min(), avg_psnr_vmf.min())\n",
    "psnr_max = max(avg_psnr_unfil.max(), avg_psnr_vmf.max())\n",
    "ssim_min = min(avg_ssim_unfil.min(), avg_ssim_vmf.min())\n",
    "ssim_max = max(avg_ssim_unfil.max(), avg_ssim_vmf.max())\n",
    "\n",
    "psnr_margin = 0.05 * (psnr_max - psnr_min)\n",
    "ssim_margin = 0.05 * (ssim_max - ssim_min)\n",
    "\n",
    "axes[0].bar([\"Unfiltered\", \"VMF\"], [avg_psnr_unfil, avg_psnr_vmf])\n",
    "axes[0].set_title(\"Average PSNR Before and After Filtering\")\n",
    "axes[0].set_ylabel(\"PSNR (dB)\")\n",
    "\n",
    "# SSIM bar chart\n",
    "axes[1].bar([\"Unfiltered\", \"VMF\"], [avg_ssim_unfil, avg_ssim_vmf])\n",
    "axes[1].set_title(\"Average SSIM Before and After Filtering\")\n",
    "axes[1].set_ylabel(\"SSIM\")\n",
    "\n",
    "plt.tight_layout()\n",
    "plt.show()"
   ]
  },
  {
   "cell_type": "markdown",
   "metadata": {},
   "source": [
    "# Step 3:  See if you can do better!\n",
    "\n",
    "Find a better way to denoise the images.  Compute the mean PSNR and SSIM for your denoising method.   Replot the graphs in the previous step with the new results added.\n",
    "\n",
    "_You can use any functions in the python libraries to help you (numpy, scipy, skimage, etc.) but you cannot bring in code from external sources._\n"
   ]
  },
  {
   "cell_type": "code",
   "execution_count": 4,
   "metadata": {},
   "outputs": [],
   "source": [
    "# Write your de-noising method here."
   ]
  }
 ],
 "metadata": {
  "kernelspec": {
   "display_name": "Python 3 (ipykernel)",
   "language": "python",
   "name": "python3"
  },
  "language_info": {
   "codemirror_mode": {
    "name": "ipython",
    "version": 3
   },
   "file_extension": ".py",
   "mimetype": "text/x-python",
   "name": "python",
   "nbconvert_exporter": "python",
   "pygments_lexer": "ipython3",
   "version": "3.12.2"
  },
  "pycharm": {
   "stem_cell": {
    "cell_type": "raw",
    "metadata": {
     "collapsed": false
    },
    "source": []
   }
  }
 },
 "nbformat": 4,
 "nbformat_minor": 4
}
